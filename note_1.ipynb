{
 "cells": [
  {
   "cell_type": "markdown",
   "metadata": {},
   "source": [
    "# Testing a some things"
   ]
  },
  {
   "cell_type": "code",
   "execution_count": 2,
   "metadata": {},
   "outputs": [
    {
     "name": "stdout",
     "output_type": "stream",
     "text": [
      "Next you will enter the coordinates of the Vec2\n",
      "(4.0, 5.0)\n",
      "(4.0, 5.0, 7.0)\n"
     ]
    }
   ],
   "source": [
    "import math_lib as ml\n",
    "import utils as outils\n",
    "vectorTest2D = ml.readVec2Console()\n",
    "print(vectorTest2D)\n",
    "vectorTest3D = vectorTest2D.ToVec3(outils.sanatizeInputFloat(\"Next you will enter the value on the Z axis\"))\n",
    "print(vectorTest3D)"
   ]
  }
 ],
 "metadata": {
  "kernelspec": {
   "display_name": ".venv",
   "language": "python",
   "name": "python3"
  },
  "language_info": {
   "codemirror_mode": {
    "name": "ipython",
    "version": 3
   },
   "file_extension": ".py",
   "mimetype": "text/x-python",
   "name": "python",
   "nbconvert_exporter": "python",
   "pygments_lexer": "ipython3",
   "version": "3.13.0"
  }
 },
 "nbformat": 4,
 "nbformat_minor": 2
}
