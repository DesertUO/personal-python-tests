{
  "nbformat": 4,
  "nbformat_minor": 0,
  "metadata": {
    "colab": {
      "provenance": []
    },
    "kernelspec": {
      "name": "python3",
      "display_name": "Python 3"
    },
    "language_info": {
      "name": "python"
    }
  },
  "cells": [
    {
      "cell_type": "markdown",
      "metadata": {
        "id": "9cH48FnbrrXo"
      },
      "source": [
        "1.- Escribir una aplicación recursiva para determinar la suma de los primeros N números enteros positivos"
      ]
    },
    {
      "cell_type": "code",
      "metadata": {
        "id": "ZXe-lnv_r4IZ",
        "colab": {
          "base_uri": "https://localhost:8080/"
        },
        "outputId": "8d49ea6b-9ffc-429e-f87e-d7d39ffc0e40"
      },
      "source": [
        "# **********************   MODULO   ***************************\n",
        "# Módulo sumar los n primeros números positivos\n",
        "def sumarHastaN(N):\n",
        "  if N == 1:\n",
        "    return N\n",
        "  else:\n",
        "    return N + sumarHastaN(N - 1)\n",
        "\n",
        "# **********************   PROGRAMA PRINCIPAL   ***************************<\n",
        "sumarHastaN(100)"
      ],
      "execution_count": null,
      "outputs": [
        {
          "output_type": "execute_result",
          "data": {
            "text/plain": [
              "5050"
            ]
          },
          "metadata": {},
          "execution_count": 2
        }
      ]
    },
    {
      "cell_type": "markdown",
      "metadata": {
        "id": "nQCLD5Pvf8D4"
      },
      "source": [
        "2.- Escribir N veces la palabra UNSAAC"
      ]
    },
    {
      "cell_type": "code",
      "metadata": {
        "id": "kZAGGF17gKe2",
        "colab": {
          "base_uri": "https://localhost:8080/"
        },
        "outputId": "5f04be09-66ae-472c-b812-ac6fc2d2a52a"
      },
      "source": [
        "# **********************   MODULO   ***************************\n",
        "# Módulo para escribir N veces una palabra\n",
        "def escribirNVeces(N, palabra = \"UNSAAC\"):\n",
        "  if N == 1:\n",
        "    print(palabra)\n",
        "  else:\n",
        "    print(palabra)\n",
        "    escribirNVeces(N - 1, palabra)\n",
        "\n",
        "# **********************   PROGRAMA PRINCIPAL   ***************************\n",
        "escribirNVeces(5)"
      ],
      "execution_count": null,
      "outputs": [
        {
          "output_type": "stream",
          "name": "stdout",
          "text": [
            "UNSAAC\n",
            "UNSAAC\n",
            "UNSAAC\n",
            "UNSAAC\n",
            "UNSAAC\n"
          ]
        }
      ]
    },
    {
      "cell_type": "markdown",
      "metadata": {
        "id": "BQQpwnoAgMn_"
      },
      "source": [
        "3.- Escribir una aplicación que muestre los números del 1 al N, en orden ascendente y descendente."
      ]
    },
    {
      "cell_type": "code",
      "metadata": {
        "id": "UVaYfBrsgfRP",
        "collapsed": true,
        "colab": {
          "base_uri": "https://localhost:8080/"
        },
        "outputId": "0d8022a0-9028-49de-dbec-90541700db0f"
      },
      "source": [
        "# *************  MÓDULOS ***************\n",
        "\n",
        "# Módulos para validar las entradas númericas para números enteros\n",
        "def LeerNroEntero(texto, vmin = -999999999999, vmax = 999999999999):\n",
        "    Nro = int(input(texto))\n",
        "    while (Nro < vmin) or (Nro > vmax):\n",
        "        print(\"ERROR Nro fuera de rango...\")\n",
        "        Nro = int(input(\"Vuelve a ingresar el número: \"))\n",
        "    return Nro\n",
        "\n",
        "# Módulo para mostrar los números del 1 a N\n",
        "def mostrarUnoANAsc(N):\n",
        "  if N > 0:\n",
        "    return mostrarUnoANAsc(N - 1), print(N)\n",
        "\n",
        "# Módulo para mostrar los números de N al 1\n",
        "def mostrarUnoANDesc(N):\n",
        "  if N > 0:\n",
        "    print(N)\n",
        "    return mostrarUnoANDesc(N - 1)\n",
        "\n",
        "# **********************   PROGRAMA PRINCIPAL   ***************************\n",
        "N = LeerNroEntero(\"Ingrese un número natural (N) no cero: \", 1)\n",
        "mostrarUnoANAsc(N)\n",
        "mostrarUnoANDesc(N)"
      ],
      "execution_count": 103,
      "outputs": [
        {
          "output_type": "stream",
          "name": "stdout",
          "text": [
            "Ingrese un número natural (N) no cero: 0\n",
            "ERROR Nro fuera de rango...\n",
            "Vuelve a ingresar el número: 6\n",
            "1\n",
            "2\n",
            "3\n",
            "4\n",
            "5\n",
            "6\n",
            "6\n",
            "5\n",
            "4\n",
            "3\n",
            "2\n",
            "1\n"
          ]
        }
      ]
    },
    {
      "cell_type": "markdown",
      "metadata": {
        "id": "wRl5mnZmkFsw"
      },
      "source": [
        "4.- Se tiene N alumnos, para cada alumno se tiene tres notas. Escribir una aplicación para calcular el promedio de cada alumno."
      ]
    },
    {
      "cell_type": "code",
      "metadata": {
        "id": "TAAfIwVHkI_z",
        "colab": {
          "base_uri": "https://localhost:8080/"
        },
        "outputId": "a6342196-02f7-43a2-be2a-2e3b3b83aae0"
      },
      "source": [
        "# *************  MÓDULOS ***************\n",
        "\n",
        "# Módulos para validar las entradas númericas\n",
        "\n",
        "# Para números enteros\n",
        "def LeerNroEntero(texto, vmin = -999999999999, vmax = 999999999999):\n",
        "    Nro = int(input(texto))\n",
        "    while (Nro < vmin) or (Nro > vmax):\n",
        "        print(\"ERROR Nro fuera de rango...\")\n",
        "        Nro = int(input(\"Vuelve a ingresar el número: \"))\n",
        "    return Nro\n",
        "\n",
        "# Para números reales10\n",
        "def LeerNroReal(texto, vmin = -999999999999, vmax = 999999999999):\n",
        "    Nro = float(input(texto))\n",
        "    while (Nro < vmin) or (Nro > vmax):\n",
        "        print(\"ERROR Nro fuera de rango...\")\n",
        "        Nro = float(input(\"Vuelve a ingresar el número: \"))\n",
        "    return Nro\n",
        "\n",
        "# Módulo para calcular el promedio de cada alumno\n",
        "def calcularPromAlum(N):\n",
        "  if N > 0:\n",
        "    print(f\"Alumno {N}\")\n",
        "    Nota1 = LeerNroReal(\"Ingrese la primera nota: \", 0 , 20)\n",
        "    Nota2 = LeerNroReal(\"Ingrese la segunda nota: \", 0 , 20)\n",
        "    Nota3 = LeerNroReal(\"Ingrese la tercera nota: \", 0 , 20)\n",
        "    prom = (Nota1 + Nota2 + Nota3) / 3\n",
        "    print(f\"El promedio es: {prom}\")\n",
        "    return calcularPromAlum(N - 1)\n",
        "\n",
        "# **********************   PROGRAMA PRINCIPAL   ***************************\n",
        "Nro = LeerNroEntero(\"Ingrese el número de alumnos: \", 1)\n",
        "calcularPromAlum(Nro)"
      ],
      "execution_count": 95,
      "outputs": [
        {
          "output_type": "stream",
          "name": "stdout",
          "text": [
            "Ingrese el número de alumnos: 4\n",
            "Alumno 4\n",
            "Ingrese la primera nota: 20\n",
            "Ingrese la segunda nota: 20\n",
            "Ingrese la tercera nota: 20\n",
            "El promedio es: 20.0\n",
            "Alumno 3\n",
            "Ingrese la primera nota: 10\n",
            "Ingrese la segunda nota: 10\n",
            "Ingrese la tercera nota: 10\n",
            "El promedio es: 10.0\n",
            "Alumno 2\n",
            "Ingrese la primera nota: 5\n",
            "Ingrese la segunda nota: 5\n",
            "Ingrese la tercera nota: 5\n",
            "El promedio es: 5.0\n",
            "Alumno 1\n",
            "Ingrese la primera nota: 20\n",
            "Ingrese la segunda nota: 10\n",
            "Ingrese la tercera nota: 5\n",
            "El promedio es: 11.666666666666666\n"
          ]
        }
      ]
    },
    {
      "cell_type": "markdown",
      "metadata": {
        "id": "bEAVErmUkoKz"
      },
      "source": [
        "5.- Se tiene N alumnos, para cada alumno se tiene tres notas. Escribir una aplicación para calcular el promedio de cada alumno y determinar el número de aprobados, desaprobados y reprobados."
      ]
    },
    {
      "cell_type": "code",
      "metadata": {
        "id": "-U9iOQQdktI9",
        "colab": {
          "base_uri": "https://localhost:8080/"
        },
        "outputId": "8fa94194-60a6-4dae-f34a-4678cc50429a"
      },
      "source": [
        "# *************  MÓDULOS ***************\n",
        "\n",
        "# Módulos para validar las entradas númericas\n",
        "\n",
        "# Para números enteros\n",
        "def LeerNroEntero(texto, vmin = -999999999999, vmax = 999999999999):\n",
        "    Nro = int(input(texto))\n",
        "    while (Nro < vmin) or (Nro > vmax):\n",
        "        print(\"ERROR Nro fuera de rango...\")\n",
        "        Nro = int(input(\"Vuelve a ingresar el número: \"))\n",
        "    return Nro\n",
        "\n",
        "# Para números reales10\n",
        "def LeerNroReal(texto, vmin = - 999999999999, vmax = 999999999999):\n",
        "    Nro = float(input(texto))\n",
        "    while (Nro < vmin) or (Nro > vmax):\n",
        "        print(\"ERROR Nro fuera de rango...\")\n",
        "        Nro = float(input(\"Vuelve a ingresar el número: \"))\n",
        "    return Nro\n",
        "\n",
        "# Módulo para calcular el promedio de cada alumno y mostrar el número de aprobados y desaprobados\n",
        "def calcularPromAlum(N, Apro = 0, Desapro = 0, Repro = 0):\n",
        "  if N > 0:\n",
        "    print(f\"Alumno {N}\")\n",
        "    Nota1 = LeerNroReal(\"Ingrese la primera nota: \", 0 , 20)\n",
        "    Nota2 = LeerNroReal(\"Ingrese la segunda nota: \", 0 , 20)\n",
        "    Nota3 = LeerNroReal(\"Ingrese la tercera nota: \", 0 , 20)\n",
        "    prom = (Nota1 + Nota2 + Nota3) / 3\n",
        "    print(f\"El promedio es: {prom}\")\n",
        "    if prom >= 13.5:\n",
        "      return calcularPromAlum(N - 1, Apro + 1, Desapro, Repro)\n",
        "    elif prom >= 9.5:\n",
        "      return calcularPromAlum(N - 1, Apro, Desapro + 1, Repro)\n",
        "    else:\n",
        "      return calcularPromAlum(N - 1, Apro, Desapro, Repro + 1)\n",
        "  print(f\"El número de alumnos aprobados es {Apro}\")\n",
        "  print(f\"El número de alumnos desaprobados es {Desapro}\")\n",
        "  print(f\"El número de alumnos reprobados es {Repro}\")\n",
        "\n",
        "# **********************   PROGRAMA PRINCIPAL   ***************************\n",
        "Nro = LeerNroEntero(\"Ingrese el número de alumnos: \", 1)\n",
        "calcularPromAlum(Nro)"
      ],
      "execution_count": 98,
      "outputs": [
        {
          "output_type": "stream",
          "name": "stdout",
          "text": [
            "Ingrese el número de alumnos: 4\n",
            "Alumno 4\n",
            "Ingrese la primera nota: 20\n",
            "Ingrese la segunda nota: 20\n",
            "Ingrese la tercera nota: 20\n",
            "El promedio es: 20.0\n",
            "Alumno 3\n",
            "Ingrese la primera nota: 10\n",
            "Ingrese la segunda nota: 10\n",
            "Ingrese la tercera nota: 10\n",
            "El promedio es: 10.0\n",
            "Alumno 2\n",
            "Ingrese la primera nota: 5\n",
            "Ingrese la segunda nota: 5\n",
            "Ingrese la tercera nota: 5\n",
            "El promedio es: 5.0\n",
            "Alumno 1\n",
            "Ingrese la primera nota: 20\n",
            "Ingrese la segunda nota: 10\n",
            "Ingrese la tercera nota: 5\n",
            "El promedio es: 11.666666666666666\n",
            "El número de alumnos aprobados es 1\n",
            "El número de alumnos desaprobados es 2\n",
            "El número de alumnos reprobados es 1\n"
          ]
        }
      ]
    },
    {
      "cell_type": "markdown",
      "metadata": {
        "id": "SfyTHbPRYFkd"
      },
      "source": [
        "6.- Un robot puede desplazarse en línea recta dando pasos de uno o dos metros. Escribir un subprograma recursivo que determine de cuantas maneras distintas puede desplazarse el robot sobre “n” metros.\n",
        "\n"
      ]
    },
    {
      "cell_type": "code",
      "source": [
        "# *********** MODULOS **************\n",
        "\n",
        "# Módulos para validar las entradas númericas para números enteros\n",
        "def LeerNroEntero(texto, vmin = -999999999999, vmax = 999999999999):\n",
        "    Nro = int(input(texto))\n",
        "    while (Nro < vmin) or (Nro > vmax):\n",
        "        print(\"ERROR Nro fuera de rango...\")\n",
        "        Nro = int(input(\"Vuelve a ingresar el número: \"))\n",
        "    return Nro\n",
        "\n",
        "# \"Fibonacci\"\n",
        "def nroDeManeras(n):\n",
        "    if n <= 2:\n",
        "        return n - 1\n",
        "    return nroDeManeras(n - 1) + nroDeManeras(n - 2)\n",
        "\n",
        "# **********************   PROGRAMA PRINCIPAL   ***************************\n",
        "Metros = LeerNroEntero(\"Ingrese los metros: \", 1)\n",
        "print(nroDeManeras(Metros))"
      ],
      "metadata": {
        "id": "1xeXMjtftRbZ",
        "colab": {
          "base_uri": "https://localhost:8080/"
        },
        "outputId": "09a693cf-d916-4445-9898-3570b6a6310f"
      },
      "execution_count": 101,
      "outputs": [
        {
          "output_type": "stream",
          "name": "stdout",
          "text": [
            "Ingrese los metros: 0\n",
            "ERROR Nro fuera de rango...\n",
            "Vuelve a ingresar el número: 5\n",
            "3\n"
          ]
        }
      ]
    },
    {
      "cell_type": "markdown",
      "source": [
        "7.- Escribir una aplicación modular para mostrar un árbol de asteriscos."
      ],
      "metadata": {
        "id": "4v9EosGutYHB"
      }
    },
    {
      "cell_type": "code",
      "source": [
        "# *********** MODULOS **************\n",
        "\n",
        "# Módulo para mostrar la copa del árbol\n",
        "def Copa(N, St = 1):\n",
        "  if N > 0:\n",
        "    Copa(N - 1, St + 1)\n",
        "    print(\" \" * St + \"* \" * N)\n",
        "\n",
        "\n",
        "# Módulo para mostrar el tronco del árbol\n",
        "def Tronco(N, i):\n",
        "  if i > 0:\n",
        "    print(\" \" * (1 + (N // 2)) + \"* \" * (N // 2))\n",
        "    Tronco(N, i - 1)\n",
        "\n",
        "\n",
        "# Módulo para mostrar la base del árbol\n",
        "def Base(N):\n",
        "    if N > 0:\n",
        "      print(\" \" * ((N // 2) - 2) + \"* \" * ((N // 2) + 3))\n",
        "\n",
        "\n",
        "# Módulo para mostrar el árbol completo\n",
        "def Arbol(N):\n",
        "  Copa(N)\n",
        "  Tronco(N, N // 3)\n",
        "  Base(N)\n",
        "\n",
        "# **********************   PROGRAMA PRINCIPAL   ***************************\n",
        "Arbol(100)"
      ],
      "metadata": {
        "colab": {
          "base_uri": "https://localhost:8080/"
        },
        "id": "iNpDDCWLyDIu",
        "outputId": "bce16dfb-ae09-44fb-d522-479b091a375a"
      },
      "execution_count": null,
      "outputs": [
        {
          "output_type": "stream",
          "name": "stdout",
          "text": [
            "                                                                                                    * \n",
            "                                                                                                   * * \n",
            "                                                                                                  * * * \n",
            "                                                                                                 * * * * \n",
            "                                                                                                * * * * * \n",
            "                                                                                               * * * * * * \n",
            "                                                                                              * * * * * * * \n",
            "                                                                                             * * * * * * * * \n",
            "                                                                                            * * * * * * * * * \n",
            "                                                                                           * * * * * * * * * * \n",
            "                                                                                          * * * * * * * * * * * \n",
            "                                                                                         * * * * * * * * * * * * \n",
            "                                                                                        * * * * * * * * * * * * * \n",
            "                                                                                       * * * * * * * * * * * * * * \n",
            "                                                                                      * * * * * * * * * * * * * * * \n",
            "                                                                                     * * * * * * * * * * * * * * * * \n",
            "                                                                                    * * * * * * * * * * * * * * * * * \n",
            "                                                                                   * * * * * * * * * * * * * * * * * * \n",
            "                                                                                  * * * * * * * * * * * * * * * * * * * \n",
            "                                                                                 * * * * * * * * * * * * * * * * * * * * \n",
            "                                                                                * * * * * * * * * * * * * * * * * * * * * \n",
            "                                                                               * * * * * * * * * * * * * * * * * * * * * * \n",
            "                                                                              * * * * * * * * * * * * * * * * * * * * * * * \n",
            "                                                                             * * * * * * * * * * * * * * * * * * * * * * * * \n",
            "                                                                            * * * * * * * * * * * * * * * * * * * * * * * * * \n",
            "                                                                           * * * * * * * * * * * * * * * * * * * * * * * * * * \n",
            "                                                                          * * * * * * * * * * * * * * * * * * * * * * * * * * * \n",
            "                                                                         * * * * * * * * * * * * * * * * * * * * * * * * * * * * \n",
            "                                                                        * * * * * * * * * * * * * * * * * * * * * * * * * * * * * \n",
            "                                                                       * * * * * * * * * * * * * * * * * * * * * * * * * * * * * * \n",
            "                                                                      * * * * * * * * * * * * * * * * * * * * * * * * * * * * * * * \n",
            "                                                                     * * * * * * * * * * * * * * * * * * * * * * * * * * * * * * * * \n",
            "                                                                    * * * * * * * * * * * * * * * * * * * * * * * * * * * * * * * * * \n",
            "                                                                   * * * * * * * * * * * * * * * * * * * * * * * * * * * * * * * * * * \n",
            "                                                                  * * * * * * * * * * * * * * * * * * * * * * * * * * * * * * * * * * * \n",
            "                                                                 * * * * * * * * * * * * * * * * * * * * * * * * * * * * * * * * * * * * \n",
            "                                                                * * * * * * * * * * * * * * * * * * * * * * * * * * * * * * * * * * * * * \n",
            "                                                               * * * * * * * * * * * * * * * * * * * * * * * * * * * * * * * * * * * * * * \n",
            "                                                              * * * * * * * * * * * * * * * * * * * * * * * * * * * * * * * * * * * * * * * \n",
            "                                                             * * * * * * * * * * * * * * * * * * * * * * * * * * * * * * * * * * * * * * * * \n",
            "                                                            * * * * * * * * * * * * * * * * * * * * * * * * * * * * * * * * * * * * * * * * * \n",
            "                                                           * * * * * * * * * * * * * * * * * * * * * * * * * * * * * * * * * * * * * * * * * * \n",
            "                                                          * * * * * * * * * * * * * * * * * * * * * * * * * * * * * * * * * * * * * * * * * * * \n",
            "                                                         * * * * * * * * * * * * * * * * * * * * * * * * * * * * * * * * * * * * * * * * * * * * \n",
            "                                                        * * * * * * * * * * * * * * * * * * * * * * * * * * * * * * * * * * * * * * * * * * * * * \n",
            "                                                       * * * * * * * * * * * * * * * * * * * * * * * * * * * * * * * * * * * * * * * * * * * * * * \n",
            "                                                      * * * * * * * * * * * * * * * * * * * * * * * * * * * * * * * * * * * * * * * * * * * * * * * \n",
            "                                                     * * * * * * * * * * * * * * * * * * * * * * * * * * * * * * * * * * * * * * * * * * * * * * * * \n",
            "                                                    * * * * * * * * * * * * * * * * * * * * * * * * * * * * * * * * * * * * * * * * * * * * * * * * * \n",
            "                                                   * * * * * * * * * * * * * * * * * * * * * * * * * * * * * * * * * * * * * * * * * * * * * * * * * * \n",
            "                                                  * * * * * * * * * * * * * * * * * * * * * * * * * * * * * * * * * * * * * * * * * * * * * * * * * * * \n",
            "                                                 * * * * * * * * * * * * * * * * * * * * * * * * * * * * * * * * * * * * * * * * * * * * * * * * * * * * \n",
            "                                                * * * * * * * * * * * * * * * * * * * * * * * * * * * * * * * * * * * * * * * * * * * * * * * * * * * * * \n",
            "                                               * * * * * * * * * * * * * * * * * * * * * * * * * * * * * * * * * * * * * * * * * * * * * * * * * * * * * * \n",
            "                                              * * * * * * * * * * * * * * * * * * * * * * * * * * * * * * * * * * * * * * * * * * * * * * * * * * * * * * * \n",
            "                                             * * * * * * * * * * * * * * * * * * * * * * * * * * * * * * * * * * * * * * * * * * * * * * * * * * * * * * * * \n",
            "                                            * * * * * * * * * * * * * * * * * * * * * * * * * * * * * * * * * * * * * * * * * * * * * * * * * * * * * * * * * \n",
            "                                           * * * * * * * * * * * * * * * * * * * * * * * * * * * * * * * * * * * * * * * * * * * * * * * * * * * * * * * * * * \n",
            "                                          * * * * * * * * * * * * * * * * * * * * * * * * * * * * * * * * * * * * * * * * * * * * * * * * * * * * * * * * * * * \n",
            "                                         * * * * * * * * * * * * * * * * * * * * * * * * * * * * * * * * * * * * * * * * * * * * * * * * * * * * * * * * * * * * \n",
            "                                        * * * * * * * * * * * * * * * * * * * * * * * * * * * * * * * * * * * * * * * * * * * * * * * * * * * * * * * * * * * * * \n",
            "                                       * * * * * * * * * * * * * * * * * * * * * * * * * * * * * * * * * * * * * * * * * * * * * * * * * * * * * * * * * * * * * * \n",
            "                                      * * * * * * * * * * * * * * * * * * * * * * * * * * * * * * * * * * * * * * * * * * * * * * * * * * * * * * * * * * * * * * * \n",
            "                                     * * * * * * * * * * * * * * * * * * * * * * * * * * * * * * * * * * * * * * * * * * * * * * * * * * * * * * * * * * * * * * * * \n",
            "                                    * * * * * * * * * * * * * * * * * * * * * * * * * * * * * * * * * * * * * * * * * * * * * * * * * * * * * * * * * * * * * * * * * \n",
            "                                   * * * * * * * * * * * * * * * * * * * * * * * * * * * * * * * * * * * * * * * * * * * * * * * * * * * * * * * * * * * * * * * * * * \n",
            "                                  * * * * * * * * * * * * * * * * * * * * * * * * * * * * * * * * * * * * * * * * * * * * * * * * * * * * * * * * * * * * * * * * * * * \n",
            "                                 * * * * * * * * * * * * * * * * * * * * * * * * * * * * * * * * * * * * * * * * * * * * * * * * * * * * * * * * * * * * * * * * * * * * \n",
            "                                * * * * * * * * * * * * * * * * * * * * * * * * * * * * * * * * * * * * * * * * * * * * * * * * * * * * * * * * * * * * * * * * * * * * * \n",
            "                               * * * * * * * * * * * * * * * * * * * * * * * * * * * * * * * * * * * * * * * * * * * * * * * * * * * * * * * * * * * * * * * * * * * * * * \n",
            "                              * * * * * * * * * * * * * * * * * * * * * * * * * * * * * * * * * * * * * * * * * * * * * * * * * * * * * * * * * * * * * * * * * * * * * * * \n",
            "                             * * * * * * * * * * * * * * * * * * * * * * * * * * * * * * * * * * * * * * * * * * * * * * * * * * * * * * * * * * * * * * * * * * * * * * * * \n",
            "                            * * * * * * * * * * * * * * * * * * * * * * * * * * * * * * * * * * * * * * * * * * * * * * * * * * * * * * * * * * * * * * * * * * * * * * * * * \n",
            "                           * * * * * * * * * * * * * * * * * * * * * * * * * * * * * * * * * * * * * * * * * * * * * * * * * * * * * * * * * * * * * * * * * * * * * * * * * * \n",
            "                          * * * * * * * * * * * * * * * * * * * * * * * * * * * * * * * * * * * * * * * * * * * * * * * * * * * * * * * * * * * * * * * * * * * * * * * * * * * \n",
            "                         * * * * * * * * * * * * * * * * * * * * * * * * * * * * * * * * * * * * * * * * * * * * * * * * * * * * * * * * * * * * * * * * * * * * * * * * * * * * \n",
            "                        * * * * * * * * * * * * * * * * * * * * * * * * * * * * * * * * * * * * * * * * * * * * * * * * * * * * * * * * * * * * * * * * * * * * * * * * * * * * * \n",
            "                       * * * * * * * * * * * * * * * * * * * * * * * * * * * * * * * * * * * * * * * * * * * * * * * * * * * * * * * * * * * * * * * * * * * * * * * * * * * * * * \n",
            "                      * * * * * * * * * * * * * * * * * * * * * * * * * * * * * * * * * * * * * * * * * * * * * * * * * * * * * * * * * * * * * * * * * * * * * * * * * * * * * * * \n",
            "                     * * * * * * * * * * * * * * * * * * * * * * * * * * * * * * * * * * * * * * * * * * * * * * * * * * * * * * * * * * * * * * * * * * * * * * * * * * * * * * * * \n",
            "                    * * * * * * * * * * * * * * * * * * * * * * * * * * * * * * * * * * * * * * * * * * * * * * * * * * * * * * * * * * * * * * * * * * * * * * * * * * * * * * * * * \n",
            "                   * * * * * * * * * * * * * * * * * * * * * * * * * * * * * * * * * * * * * * * * * * * * * * * * * * * * * * * * * * * * * * * * * * * * * * * * * * * * * * * * * * \n",
            "                  * * * * * * * * * * * * * * * * * * * * * * * * * * * * * * * * * * * * * * * * * * * * * * * * * * * * * * * * * * * * * * * * * * * * * * * * * * * * * * * * * * * \n",
            "                 * * * * * * * * * * * * * * * * * * * * * * * * * * * * * * * * * * * * * * * * * * * * * * * * * * * * * * * * * * * * * * * * * * * * * * * * * * * * * * * * * * * * \n",
            "                * * * * * * * * * * * * * * * * * * * * * * * * * * * * * * * * * * * * * * * * * * * * * * * * * * * * * * * * * * * * * * * * * * * * * * * * * * * * * * * * * * * * * \n",
            "               * * * * * * * * * * * * * * * * * * * * * * * * * * * * * * * * * * * * * * * * * * * * * * * * * * * * * * * * * * * * * * * * * * * * * * * * * * * * * * * * * * * * * * \n",
            "              * * * * * * * * * * * * * * * * * * * * * * * * * * * * * * * * * * * * * * * * * * * * * * * * * * * * * * * * * * * * * * * * * * * * * * * * * * * * * * * * * * * * * * * \n",
            "             * * * * * * * * * * * * * * * * * * * * * * * * * * * * * * * * * * * * * * * * * * * * * * * * * * * * * * * * * * * * * * * * * * * * * * * * * * * * * * * * * * * * * * * * \n",
            "            * * * * * * * * * * * * * * * * * * * * * * * * * * * * * * * * * * * * * * * * * * * * * * * * * * * * * * * * * * * * * * * * * * * * * * * * * * * * * * * * * * * * * * * * * \n",
            "           * * * * * * * * * * * * * * * * * * * * * * * * * * * * * * * * * * * * * * * * * * * * * * * * * * * * * * * * * * * * * * * * * * * * * * * * * * * * * * * * * * * * * * * * * * \n",
            "          * * * * * * * * * * * * * * * * * * * * * * * * * * * * * * * * * * * * * * * * * * * * * * * * * * * * * * * * * * * * * * * * * * * * * * * * * * * * * * * * * * * * * * * * * * * \n",
            "         * * * * * * * * * * * * * * * * * * * * * * * * * * * * * * * * * * * * * * * * * * * * * * * * * * * * * * * * * * * * * * * * * * * * * * * * * * * * * * * * * * * * * * * * * * * * \n",
            "        * * * * * * * * * * * * * * * * * * * * * * * * * * * * * * * * * * * * * * * * * * * * * * * * * * * * * * * * * * * * * * * * * * * * * * * * * * * * * * * * * * * * * * * * * * * * * \n",
            "       * * * * * * * * * * * * * * * * * * * * * * * * * * * * * * * * * * * * * * * * * * * * * * * * * * * * * * * * * * * * * * * * * * * * * * * * * * * * * * * * * * * * * * * * * * * * * * \n",
            "      * * * * * * * * * * * * * * * * * * * * * * * * * * * * * * * * * * * * * * * * * * * * * * * * * * * * * * * * * * * * * * * * * * * * * * * * * * * * * * * * * * * * * * * * * * * * * * * \n",
            "     * * * * * * * * * * * * * * * * * * * * * * * * * * * * * * * * * * * * * * * * * * * * * * * * * * * * * * * * * * * * * * * * * * * * * * * * * * * * * * * * * * * * * * * * * * * * * * * * \n",
            "    * * * * * * * * * * * * * * * * * * * * * * * * * * * * * * * * * * * * * * * * * * * * * * * * * * * * * * * * * * * * * * * * * * * * * * * * * * * * * * * * * * * * * * * * * * * * * * * * * \n",
            "   * * * * * * * * * * * * * * * * * * * * * * * * * * * * * * * * * * * * * * * * * * * * * * * * * * * * * * * * * * * * * * * * * * * * * * * * * * * * * * * * * * * * * * * * * * * * * * * * * * \n",
            "  * * * * * * * * * * * * * * * * * * * * * * * * * * * * * * * * * * * * * * * * * * * * * * * * * * * * * * * * * * * * * * * * * * * * * * * * * * * * * * * * * * * * * * * * * * * * * * * * * * * \n",
            " * * * * * * * * * * * * * * * * * * * * * * * * * * * * * * * * * * * * * * * * * * * * * * * * * * * * * * * * * * * * * * * * * * * * * * * * * * * * * * * * * * * * * * * * * * * * * * * * * * * * \n",
            "                                                   * * * * * * * * * * * * * * * * * * * * * * * * * * * * * * * * * * * * * * * * * * * * * * * * * * \n",
            "                                                   * * * * * * * * * * * * * * * * * * * * * * * * * * * * * * * * * * * * * * * * * * * * * * * * * * \n",
            "                                                   * * * * * * * * * * * * * * * * * * * * * * * * * * * * * * * * * * * * * * * * * * * * * * * * * * \n",
            "                                                   * * * * * * * * * * * * * * * * * * * * * * * * * * * * * * * * * * * * * * * * * * * * * * * * * * \n",
            "                                                   * * * * * * * * * * * * * * * * * * * * * * * * * * * * * * * * * * * * * * * * * * * * * * * * * * \n",
            "                                                   * * * * * * * * * * * * * * * * * * * * * * * * * * * * * * * * * * * * * * * * * * * * * * * * * * \n",
            "                                                   * * * * * * * * * * * * * * * * * * * * * * * * * * * * * * * * * * * * * * * * * * * * * * * * * * \n",
            "                                                   * * * * * * * * * * * * * * * * * * * * * * * * * * * * * * * * * * * * * * * * * * * * * * * * * * \n",
            "                                                   * * * * * * * * * * * * * * * * * * * * * * * * * * * * * * * * * * * * * * * * * * * * * * * * * * \n",
            "                                                   * * * * * * * * * * * * * * * * * * * * * * * * * * * * * * * * * * * * * * * * * * * * * * * * * * \n",
            "                                                   * * * * * * * * * * * * * * * * * * * * * * * * * * * * * * * * * * * * * * * * * * * * * * * * * * \n",
            "                                                   * * * * * * * * * * * * * * * * * * * * * * * * * * * * * * * * * * * * * * * * * * * * * * * * * * \n",
            "                                                   * * * * * * * * * * * * * * * * * * * * * * * * * * * * * * * * * * * * * * * * * * * * * * * * * * \n",
            "                                                   * * * * * * * * * * * * * * * * * * * * * * * * * * * * * * * * * * * * * * * * * * * * * * * * * * \n",
            "                                                   * * * * * * * * * * * * * * * * * * * * * * * * * * * * * * * * * * * * * * * * * * * * * * * * * * \n",
            "                                                   * * * * * * * * * * * * * * * * * * * * * * * * * * * * * * * * * * * * * * * * * * * * * * * * * * \n",
            "                                                   * * * * * * * * * * * * * * * * * * * * * * * * * * * * * * * * * * * * * * * * * * * * * * * * * * \n",
            "                                                   * * * * * * * * * * * * * * * * * * * * * * * * * * * * * * * * * * * * * * * * * * * * * * * * * * \n",
            "                                                   * * * * * * * * * * * * * * * * * * * * * * * * * * * * * * * * * * * * * * * * * * * * * * * * * * \n",
            "                                                   * * * * * * * * * * * * * * * * * * * * * * * * * * * * * * * * * * * * * * * * * * * * * * * * * * \n",
            "                                                   * * * * * * * * * * * * * * * * * * * * * * * * * * * * * * * * * * * * * * * * * * * * * * * * * * \n",
            "                                                   * * * * * * * * * * * * * * * * * * * * * * * * * * * * * * * * * * * * * * * * * * * * * * * * * * \n",
            "                                                   * * * * * * * * * * * * * * * * * * * * * * * * * * * * * * * * * * * * * * * * * * * * * * * * * * \n",
            "                                                   * * * * * * * * * * * * * * * * * * * * * * * * * * * * * * * * * * * * * * * * * * * * * * * * * * \n",
            "                                                   * * * * * * * * * * * * * * * * * * * * * * * * * * * * * * * * * * * * * * * * * * * * * * * * * * \n",
            "                                                   * * * * * * * * * * * * * * * * * * * * * * * * * * * * * * * * * * * * * * * * * * * * * * * * * * \n",
            "                                                   * * * * * * * * * * * * * * * * * * * * * * * * * * * * * * * * * * * * * * * * * * * * * * * * * * \n",
            "                                                   * * * * * * * * * * * * * * * * * * * * * * * * * * * * * * * * * * * * * * * * * * * * * * * * * * \n",
            "                                                   * * * * * * * * * * * * * * * * * * * * * * * * * * * * * * * * * * * * * * * * * * * * * * * * * * \n",
            "                                                   * * * * * * * * * * * * * * * * * * * * * * * * * * * * * * * * * * * * * * * * * * * * * * * * * * \n",
            "                                                   * * * * * * * * * * * * * * * * * * * * * * * * * * * * * * * * * * * * * * * * * * * * * * * * * * \n",
            "                                                   * * * * * * * * * * * * * * * * * * * * * * * * * * * * * * * * * * * * * * * * * * * * * * * * * * \n",
            "                                                   * * * * * * * * * * * * * * * * * * * * * * * * * * * * * * * * * * * * * * * * * * * * * * * * * * \n",
            "                                                * * * * * * * * * * * * * * * * * * * * * * * * * * * * * * * * * * * * * * * * * * * * * * * * * * * * * \n"
          ]
        }
      ]
    }
  ]
}